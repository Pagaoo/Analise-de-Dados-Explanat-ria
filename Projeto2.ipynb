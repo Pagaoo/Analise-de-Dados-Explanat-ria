{
  "nbformat": 4,
  "nbformat_minor": 0,
  "metadata": {
    "colab": {
      "name": "Projeto2.ipynb",
      "provenance": [],
      "collapsed_sections": [],
      "mount_file_id": "1ZQrQdfnohGj73OdN099le1yxrSVA6qV4",
      "authorship_tag": "ABX9TyOvVpqipw71+LV/4fsOAocF"
    },
    "kernelspec": {
      "name": "python3",
      "display_name": "Python 3"
    }
  },
  "cells": [
    {
      "cell_type": "code",
      "metadata": {
        "id": "hISZqVcDHjE3"
      },
      "source": [
        "import pandas as pd\r\n",
        "clientes = pd.read_csv('/content/drive/MyDrive/Python/Projeto2/ClientesBanco.csv', encoding='latin1')\r\n",
        "clientes = clientes.drop('CLIENTNUM', axis=1)\r\n",
        "display(clientes)"
      ],
      "execution_count": null,
      "outputs": []
    },
    {
      "cell_type": "markdown",
      "metadata": {
        "id": "x6WSYbASIRE6"
      },
      "source": [
        "Aqui verificamos se há necessidade de tratar da base de dados. Usando do dorpna(), o método retirará as linahs com dados vazios ou faltantes É sempre bom analisar os dados para entender-los melhor, assim usa-se o método describe(), fornencendo as informações a baixo"
      ]
    },
    {
      "cell_type": "code",
      "metadata": {
        "id": "F39CDkX2ISmo"
      },
      "source": [
        "clientes = clientes.dropna()\r\n",
        "display(clientes.info())\r\n",
        "display(clientes.describe())"
      ],
      "execution_count": null,
      "outputs": []
    },
    {
      "cell_type": "markdown",
      "metadata": {
        "id": "etnE6HgoIVQY"
      },
      "source": [
        "Agora é hora de analisar como estão divididos os clientes e os cancelados. Como é interesse saber o motivo dos cancelamentos, é bom dividirmos os grupos.\r\n",
        "Assim usamos o método values_counts()."
      ]
    },
    {
      "cell_type": "code",
      "metadata": {
        "id": "-qBzKD60IYpK"
      },
      "source": [
        "display(clientes['Categoria'].value_counts())\r\n",
        "display(clientes['Categoria'].value_counts(normalize=True))"
      ],
      "execution_count": null,
      "outputs": []
    },
    {
      "cell_type": "markdown",
      "metadata": {
        "id": "-_2gFoGSIbLg"
      },
      "source": [
        "O problema é: Aumento do cancelamento de cartões O que eu quero: Entender os motivos dos cancelamentos Importar o plotly para ajudar a fazer os gráficos automáticamento atráves de uma função"
      ]
    },
    {
      "cell_type": "code",
      "metadata": {
        "id": "dhRjvubcIdZB"
      },
      "source": [
        "import plotly.express as px\r\n",
        "\r\n",
        "def grafico_coluna_categoria(coluna, tabela):\r\n",
        "    fig = px.histogram(tabela, x=coluna, color='Categoria')\r\n",
        "    fig.show()\r\n",
        "\r\n",
        "for coluna in clientes:\r\n",
        "    grafico_coluna_categoria(coluna, clientes)"
      ],
      "execution_count": null,
      "outputs": []
    },
    {
      "cell_type": "markdown",
      "metadata": {
        "id": "rnHR_yniJ--x"
      },
      "source": [
        "Olhando os gráficos dá a perceber que:\r\n",
        "  Grande parte dos clientes que cancelaram ganham menos de 40k.\r\n",
        "  Maioria dos clintes que cancelaram estão na categoria blue.\r\n",
        "  Grande parte dos contatos com a empresa, quantos mais  tempo, mais garantia   de cancelamento. \r\n",
        "  Quanto mais entra em contato com a empresa, ou não resolve o problema satisfatoriamente ou o plano utilizado não é confortável para o cliente.\r\n",
        "  Analisar o motivo dos contatos e verificar se houve ajuda satisfatória.\r\n",
        "  Analisar o motivo dos cancelamentos.\r\n",
        "  Há mais cancelamentos em planos com limites de até 5k. Acima de 5k o cancelamento é bem menor.\r\n",
        "  Quem cancela mais, usa menos o cartão. Isso fica claro na tabela de   quantidade de transações. Com muitas transações o cliente tende a cancelar menos o cartão e se chega a mais de 80, não cancela mais.\r\n",
        "  Com transações maiores que 6k o cancelamento diminui muito. Já usos de 2k para baixo, a chance de cancelar é muito alto. Relacionado direto ao uso assíduo do cartão e seu limite.\r\n",
        "\r\n",
        "Propostas:\r\n",
        "  Incentivo ao uso do cartão, seja por pontos ou algum tipo de reward, já que o uso do cartão está diretamente ligado aos cancelamentos.\r\n",
        "  Álem de que sempre tentar prover um exelente atendimento e para podermos ver se algo relacionado ao atendimento é um empencilho, e para isso precimos olhar os motivos dos contatos à empresa, além do pouco uso do cartão."
      ]
    }
  ]
}